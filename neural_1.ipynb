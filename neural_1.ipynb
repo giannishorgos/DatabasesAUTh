{
  "nbformat": 4,
  "nbformat_minor": 0,
  "metadata": {
    "colab": {
      "provenance": [],
      "authorship_tag": "ABX9TyNY/9ZwAwEyvE+7qLSM4a0e",
      "include_colab_link": true
    },
    "kernelspec": {
      "name": "python3",
      "display_name": "Python 3"
    },
    "language_info": {
      "name": "python"
    }
  },
  "cells": [
    {
      "cell_type": "markdown",
      "metadata": {
        "id": "view-in-github",
        "colab_type": "text"
      },
      "source": [
        "<a href=\"https://colab.research.google.com/github/giannishorgos/DatabasesAUTh/blob/main/neural_1.ipynb\" target=\"_parent\"><img src=\"https://colab.research.google.com/assets/colab-badge.svg\" alt=\"Open In Colab\"/></a>"
      ]
    },
    {
      "cell_type": "code",
      "source": [
        "def unpickle(file):\n",
        "    import pickle\n",
        "    with open(file, 'rb') as fo:\n",
        "        data = pickle.load(fo, encoding='bytes')\n",
        "\n",
        "    data = {\n",
        "      'labels': np.array(data[b'labels']),\n",
        "      'data': np.array(data[b'data']),\n",
        "      'filenames': np.array(data[b'filenames'])\n",
        "    }\n",
        "\n",
        "    return data\n",
        "\n",
        "train_df = unpickle('data_batch_1')\n",
        "test_df = unpickle('test_batch')\n",
        "\n",
        "def load_all():\n",
        "    for i in range(2, 6):\n",
        "        temp = unpickle('data_batch_{}'.format(i))\n",
        "        train_df['data'] = np.concatenate((train_df['data'], temp['data']))\n",
        "        train_df['labels'] = np.append(train_df['labels'], temp['labels'])"
      ],
      "metadata": {
        "id": "-1UbuXfJm_LM"
      },
      "execution_count": 3,
      "outputs": []
    },
    {
      "cell_type": "code",
      "source": [
        "from sklearn.neighbors import KNeighborsClassifier, NearestCentroid\n",
        "from sklearn.neural_network import MLPClassifier\n",
        "\n",
        "import matplotlib.pyplot as plt\n",
        "import numpy as np\n",
        "import time\n",
        "\n",
        "\n",
        "def model_accuracy(y_pred, y_test):\n",
        "    if len(y_pred) != len(y_test):\n",
        "        raise Exception('Arrays does not have the same length')\n",
        "\n",
        "    errors = 0\n",
        "    for i in range(len(y_test)):\n",
        "        if y_test[i] != y_pred[i]:\n",
        "            errors += 1\n",
        "\n",
        "    return 1 - errors / len(y_test)\n",
        "\n",
        "\n",
        "def nearest_neighbors(n=1):\n",
        "    classifier = KNeighborsClassifier(n_neighbors=n, weights='distance')\n",
        "    classifier.fit(train_df['data'], train_df['labels'])\n",
        "\n",
        "    start_training = time.time()\n",
        "    test_pred = classifier.predict(test_df['data'])\n",
        "    print('Neartest neighbors {} '.format(n), time.time() - start_training)\n",
        "    return model_accuracy(test_pred, test_df['labels'])\n",
        "\n",
        "\n",
        "def nearest_centroid():\n",
        "    classifier = NearestCentroid()\n",
        "    classifier.fit(train_df['data'], train_df['labels'])\n",
        "\n",
        "    start_training = time.time()\n",
        "    test_pred = classifier.predict(test_df['data'])\n",
        "    print('centroid ', time.time() - start_training)\n",
        "    return model_accuracy(test_pred, test_df['labels'])\n",
        "\n",
        "def perceptron():\n",
        "    mlp = MLPClassifier(hidden_layer_sizes=(500, 250), max_iter=500, random_state=42, activation='logistic',  # 'logistic' for sigmoid activation\n",
        "    learning_rate='adaptive',\n",
        "    alpha=0.0001)\n",
        "    start_training = time.time()\n",
        "    mlp.fit(train_df['data'], train_df['labels'])\n",
        "    print('perceptron', time.time() - start_training)\n",
        "\n",
        "    test_pred = mlp.predict(test_df['data'])\n",
        "    return model_accuracy(test_pred, test_df['labels'])\n",
        "\n",
        "\n",
        "\n",
        "# accuracy = {\n",
        "#     'Nearest Neighbors (n=1)': nearest_neighbors(n=1),\n",
        "#     'Nearest Neighbors (n=3)': nearest_neighbors(n=3),\n",
        "#     'Nearest Centroid': nearest_centroid(),\n",
        "#     'Perceptron (Back-Propagation)': perceptron()\n",
        "# }\n",
        "\n",
        "# load_all()\n",
        "\n",
        "# accuracy_full = {\n",
        "#     'Nearest Neighbors (n=1)': nearest_neighbors(n=1),\n",
        "#     'Nearest Neighbors (n=3)': nearest_neighbors(n=3),\n",
        "#     'Nearest Centroid': nearest_centroid(),\n",
        "#     'Perceptron (Back-Propagation)': perceptron()\n",
        "# }\n",
        "\n",
        "# bar_width = 0.35\n",
        "# x = np.arange(len(accuracy.keys()))\n",
        "\n",
        "# fig, ax = plt.subplots()\n",
        "# bar1 = ax.bar(x + bar_width / 2, accuracy.values(),bar_width, label=\"One batch of data\")\n",
        "# bar2 = ax.bar(x - bar_width / 2, accuracy_full.values(), bar_width,label=\"All batches of data\")\n",
        "\n",
        "# ax.set_xlabel('Classifiers')\n",
        "# ax.set_ylabel('Accuracy')\n",
        "# ax.set_title('Classifiers Accuracy Ration')\n",
        "# ax.set_xticks(x)\n",
        "# ax.set_xticklabels(accuracy.keys())\n",
        "# ax.legend()\n",
        "# ax.grid(visible=True, alpha=0.5)\n",
        "\n",
        "# plt.xticks(rotation=45)\n",
        "# plt.show()"
      ],
      "metadata": {
        "id": "3IZCaSpp3k5e"
      },
      "execution_count": 14,
      "outputs": []
    },
    {
      "cell_type": "code",
      "source": [
        "bar_width = 0.35\n",
        "x = np.arange(len(accuracy.keys()))\n",
        "\n",
        "fig, ax = plt.subplots()\n",
        "bar1 = ax.bar(x + bar_width / 2, accuracy.values(), bar_width, label=\"One batch of data\")\n",
        "bar2 = ax.bar(x - bar_width / 2, accuracy_full.values(), bar_width,label=\"All batches of data\")\n",
        "\n",
        "ax.set_xlabel('Classifiers')\n",
        "ax.set_ylabel('Accuracy')\n",
        "ax.set_title('Classifiers Accuracy Ration')\n",
        "ax.set_xticks(x)\n",
        "ax.set_xticklabels(accuracy.keys())\n",
        "ax.legend()\n",
        "ax.grid(visible=True, alpha=0.5)\n",
        "\n",
        "plt.xticks(rotation=45)\n",
        "plt.show()"
      ],
      "metadata": {
        "colab": {
          "base_uri": "https://localhost:8080/",
          "height": 618
        },
        "id": "yOpW5-tINZqT",
        "outputId": "f876eb83-a6f2-4f87-9c9e-7b58403fb5b9"
      },
      "execution_count": 105,
      "outputs": [
        {
          "output_type": "display_data",
          "data": {
            "text/plain": [
              "<Figure size 640x480 with 1 Axes>"
            ],
            "image/png": "[encoded data removed]"
          },
          "metadata": {}
        }
      ]
    },
    {
      "cell_type": "code",
      "source": [
        "temp = 0.346 # 100, 50\n",
        "# load_all()\n",
        "percep = perceptron()"
      ],
      "metadata": {
        "colab": {
          "base_uri": "https://localhost:8080/"
        },
        "id": "BNBoFDuslyIp",
        "outputId": "b3cd243e-49f1-4a14-e195-11cc3b2cd250"
      },
      "execution_count": 15,
      "outputs": [
        {
          "output_type": "stream",
          "name": "stdout",
          "text": [
            "perceptron 2242.79310631752\n"
          ]
        }
      ]
    },
    {
      "cell_type": "code",
      "source": [
        "percep"
      ],
      "metadata": {
        "colab": {
          "base_uri": "https://localhost:8080/"
        },
        "id": "I3juausdpTbQ",
        "outputId": "13720122-dd8d-4e18-e0a4-5093d3483a4d"
      },
      "execution_count": 13,
      "outputs": [
        {
          "output_type": "execute_result",
          "data": {
            "text/plain": [
              "0.09999999999999998"
            ]
          },
          "metadata": {},
          "execution_count": 13
        }
      ]
    },
    {
      "cell_type": "code",
      "source": [
        "\n",
        "\n",
        "plt.bar(accuracy.keys(), accuracy.values())\n",
        "plt.xticks(rotation=45)\n",
        "plt.show()\n"
      ],
      "metadata": {
        "colab": {
          "base_uri": "https://localhost:8080/",
          "height": 548
        },
        "id": "mJ7m9FvU5dMs",
        "outputId": "020906b5-8f2c-4687-f471-4093d9f9efe5"
      },
      "execution_count": null,
      "outputs": [
        {
          "output_type": "display_data",
          "data": {
            "text/plain": [
              "<Figure size 640x480 with 1 Axes>"
            ],
            "image/png": "[encoded data removed]"
          },
          "metadata": {}
        }
      ]
    },
    {
      "cell_type": "code",
      "source": [
        "# full data\n",
        "import numpy as np\n",
        "\n",
        "train_df= unpickle('data_batch_1')\n",
        "test_df = unpickle('test_batch')\n",
        "for i in range(2, 6):\n",
        "  temp = unpickle('data_batch_{}'.format(i))\n",
        "  print(len(train_df[\"data\"]))\n",
        "  print(train_df[\"data\"])\n",
        "  train_df['data'] = np.concatenate((train_df['data'], temp['data']))\n",
        "  train_df['labels'] = np.append(train_df['labels'], temp['labels'])\n",
        "  # train_df['filenames'] += temp['filenames']\n",
        "\n"
      ],
      "metadata": {
        "colab": {
          "base_uri": "https://localhost:8080/"
        },
        "id": "WNiNep7R7Cy1",
        "outputId": "af3b6bd9-6b7c-4267-e73c-6f14643593e4"
      },
      "execution_count": null,
      "outputs": [
        {
          "output_type": "stream",
          "name": "stdout",
          "text": [
            "10000\n",
            "[[ 59  43  50 ... 140  84  72]\n",
            " [154 126 105 ... 139 142 144]\n",
            " [255 253 253 ...  83  83  84]\n",
            " ...\n",
            " [ 71  60  74 ...  68  69  68]\n",
            " [250 254 211 ... 215 255 254]\n",
            " [ 62  61  60 ... 130 130 131]]\n",
            "20000\n",
            "[[ 59  43  50 ... 140  84  72]\n",
            " [154 126 105 ... 139 142 144]\n",
            " [255 253 253 ...  83  83  84]\n",
            " ...\n",
            " [127 139 155 ... 197 192 191]\n",
            " [190 200 208 ... 163 182 192]\n",
            " [177 174 182 ... 119 127 136]]\n",
            "30000\n",
            "[[ 59  43  50 ... 140  84  72]\n",
            " [154 126 105 ... 139 142 144]\n",
            " [255 253 253 ...  83  83  84]\n",
            " ...\n",
            " [175 200 207 ... 124  49  32]\n",
            " [ 28  59  67 ...  36  44  41]\n",
            " [ 62  40  61 ... 127 124 116]]\n",
            "40000\n",
            "[[ 59  43  50 ... 140  84  72]\n",
            " [154 126 105 ... 139 142 144]\n",
            " [255 253 253 ...  83  83  84]\n",
            " ...\n",
            " [167 164 151 ... 132 142 130]\n",
            " [ 45  46  46 ...  30  34  24]\n",
            " [235 239 239 ... 182 175 174]]\n"
          ]
        }
      ]
    },
    {
      "cell_type": "code",
      "source": [
        "accuracy_full = {\n",
        "    'Nearest Neighbors (n=1)': nearest_neighbors(n=1),\n",
        "    'Nearest Neighbors (n=3)': nearest_neighbors(n=3),\n",
        "    'Nearest Centroid': nearest_centroid()\n",
        "\n",
        "}"
      ],
      "metadata": {
        "id": "3ltgzhrY8AyZ"
      },
      "execution_count": null,
      "outputs": []
    },
    {
      "cell_type": "code",
      "source": [
        "plt.bar(accuracy_full.keys(), accuracy_full.values())\n",
        "plt.xticks(rotation=45)\n",
        "plt.show()"
      ],
      "metadata": {
        "colab": {
          "base_uri": "https://localhost:8080/",
          "height": 548
        },
        "id": "cD-j7Qkw8EBV",
        "outputId": "2735b23c-6ff2-4dcb-b484-48fedcc408b0"
      },
      "execution_count": null,
      "outputs": [
        {
          "output_type": "display_data",
          "data": {
            "text/plain": [
              "<Figure size 640x480 with 1 Axes>"
            ],
            "image/png": "[encoded data removed]"
          },
          "metadata": {}
        }
      ]
    },
    {
      "cell_type": "code",
      "source": [
        "accuracy_full.values(), accuracy.values()"
      ],
      "metadata": {
        "colab": {
          "base_uri": "https://localhost:8080/"
        },
        "id": "dN0tNbW7aUP5",
        "outputId": "87748a6a-bfe4-4774-c593-b5908f9ad39f"
      },
      "execution_count": null,
      "outputs": [
        {
          "output_type": "execute_result",
          "data": {
            "text/plain": [
              "(dict_values([0.3539, 0.3569, 0.2774]),\n",
              " dict_values([0.28769999999999996, 0.2962, 0.277]))"
            ]
          },
          "metadata": {},
          "execution_count": 143
        }
      ]
    },
    {
      "cell_type": "code",
      "source": [
        "from sklearn.neural_network import MLPClassifier\n",
        "import time\n",
        "\n",
        "input_len = len(train_df['data'][0])\n",
        "print(input_len)\n",
        "mlp = MLPClassifier(hidden_layer_sizes=(100, 50),\n",
        "                    max_iter=500, random_state=42)\n",
        "\n",
        "start_training = time.time()\n",
        "# Fit the model to the training data\n",
        "mlp.fit(train_df['data'], train_df['labels'])\n",
        "print(time.time() - start_training)\n",
        "# Make predictions on the testing data\n",
        "predictions = mlp.predict(test_df['data'])\n",
        "model_accuracy(predictions, test_df['labels'])\n"
      ],
      "metadata": {
        "colab": {
          "base_uri": "https://localhost:8080/"
        },
        "id": "93WpMq5tinjK",
        "outputId": "bbf0f715-16d9-4227-c128-57d8b0a55708"
      },
      "execution_count": 103,
      "outputs": [
        {
          "output_type": "stream",
          "name": "stdout",
          "text": [
            "3072\n",
            "141.52227544784546\n"
          ]
        },
        {
          "output_type": "execute_result",
          "data": {
            "text/plain": [
              "0.346"
            ]
          },
          "metadata": {},
          "execution_count": 103
        }
      ]
    },
    {
      "cell_type": "code",
      "source": [
        "import numpy as np\n",
        "\n",
        "\n",
        "print(max(train_df['labels'] + 1))"
      ],
      "metadata": {
        "colab": {
          "base_uri": "https://localhost:8080/"
        },
        "id": "oNHrGmrTC-Ig",
        "outputId": "6d5b4944-65d8-4605-d30a-caf2b91c5b32"
      },
      "execution_count": 73,
      "outputs": [
        {
          "output_type": "stream",
          "name": "stdout",
          "text": [
            "10\n"
          ]
        }
      ]
    },
    {
      "cell_type": "code",
      "source": [
        "import numpy as np\n",
        "import time\n",
        "\n",
        "class Perceptron:\n",
        "    def __init__(self, input, output, hidden_layers=[100, 80], l_rate=1):\n",
        "        self.input = input\n",
        "        self.output = output\n",
        "        self.input_layer = len(input[0])\n",
        "        self.output_layer = max(output) + 1 # index starts at 0\n",
        "        self.total_layers = hidden_layers + [self.output_layer]\n",
        "        self.l_rate = l_rate\n",
        "        self.network = []\n",
        "\n",
        "        self.init_network()\n",
        "\n",
        "    def init_network(self):\n",
        "        neuron_input_size = self.input_layer\n",
        "        layer_weights = []\n",
        "\n",
        "        for layer in self.total_layers:\n",
        "            for _ in range(layer):\n",
        "                layer_weights.append({'weights' : np.random.rand(neuron_input_size)})\n",
        "            self.network.append(layer_weights)\n",
        "            neuron_input_size = layer\n",
        "            layer_weights = []\n",
        "\n",
        "\n",
        "    def activate(self, input, neuron_weights):\n",
        "        if len(input) != len(neuron_weights):\n",
        "            raise \"Input and Neuron Weights must have same length!\"\n",
        "            input.append(-1)\n",
        "            neuron_weights.append(1)\n",
        "        return np.dot(input, neuron_weights)\n",
        "\n",
        "\n",
        "    def transfer(self, activation):\n",
        "        return 1.0 / (1.0 + np.exp(-activation))\n",
        "\n",
        "\n",
        "    # Calculate the derivative of an neuron output\n",
        "    def transfer_derivative(self, output):\n",
        "        return output * (1.0 - output)\n",
        "\n",
        "\n",
        "    def forward_propagate(self, input):\n",
        "        for i, layer in enumerate(self.total_layers):\n",
        "            next_input = []\n",
        "            for j in range(layer):\n",
        "                self.network[i][j]['output'] = self.transfer(self.activate(input, self.network[i][j]['weights']))\n",
        "                next_input.append(self.network[i][j]['output'])\n",
        "            input = next_input\n",
        "\n",
        "\n",
        "    # Backpropagate error and store in neurons\n",
        "    def backward_propagate_error(self, expected):\n",
        "        for i in reversed(range(len(self.network))):\n",
        "            layer = self.network[i]\n",
        "            errors = []\n",
        "            if i != len(self.network)-1:\n",
        "                for j in range(len(layer)):\n",
        "                    error = 0.0\n",
        "                    for neuron in self.network[i + 1]:\n",
        "                        error += (neuron['weights'][j] * neuron['delta'])\n",
        "                    errors.append(error)\n",
        "            else:\n",
        "                for j in range(len(layer)):\n",
        "                    neuron = layer[j]\n",
        "                    errors.append(neuron['output'] - expected[j])\n",
        "            for j in range(len(layer)):\n",
        "                neuron = layer[j]\n",
        "                neuron['delta'] = errors[j] * self.transfer_derivative(neuron['output'])\n",
        "\n",
        "    # Update network weights with error\n",
        "    def update_weights(self, inputs):\n",
        "        for i in range(len(self.network)):\n",
        "            if i != 0:\n",
        "                inputs = [neuron['output'] for neuron in self.network[i - 1]]\n",
        "            for neuron in self.network[i]:\n",
        "                for j in range(len(inputs)):\n",
        "                    neuron['weights'][j] -= self.l_rate * neuron['delta'] * inputs[j]\n",
        "                neuron['weights'][-1] -= self.l_rate * neuron['delta']\n",
        "    def fit(self):\n",
        "        for i, entry in enumerate(self.input):\n",
        "            self.forward_propagate(entry)\n",
        "            self.backward_propagate_error([1 if self.output[i] == i else 0 for _ in range(self.output_layer)]) # zeros everywhere except where the label\n",
        "            if i % 10 == 0:\n",
        "                self.update_weights(entry)\n",
        "        self.update_weights(self.input[-1])\n",
        "\n",
        "    def predict(self, input):\n",
        "        result = []\n",
        "        for entry in input:\n",
        "            self.forward_propagate(entry)\n",
        "            predictions = [neuron['output'] for neuron in self.network[-1]]\n",
        "            result.append(predictions.index(max(predictions)))\n",
        "        return result\n",
        "\n",
        "\n",
        "p = Perceptron(train_df['data'], train_df['labels'], [15])\n",
        "# p.init_network()\n",
        "# p.forward_propagate([1,2,3,4])\n",
        "# p.network\n",
        "# p.backward_propagate_error([0.8, 0.3])\n",
        "# print(p.network)\n",
        "# p.update_weights([1,2,3,4])\n",
        "# print(p.network)\n",
        "start = time.time()\n",
        "# print(p.network, len(p.network))\n",
        "p.fit()\n",
        "# print(p.network, len(p.network))\n",
        "print(\"training finished in {} seconds\".format(time.time() - start))"
      ],
      "metadata": {
        "colab": {
          "base_uri": "https://localhost:8080/"
        },
        "id": "QLPQR-HbCZm7",
        "outputId": "04f15a8f-2d3c-4671-9584-0691ac7675a4"
      },
      "execution_count": 97,
      "outputs": [
        {
          "output_type": "stream",
          "name": "stdout",
          "text": [
            "[[{'weights': array([0.92148552, 0.83426361, 0.41672271, ..., 0.7591207 , 0.93747008,\n",
            "       0.04521147])}, {'weights': array([0.31136416, 0.44833657, 0.61545489, ..., 0.98651966, 0.96625908,\n",
            "       0.02219402])}, {'weights': array([0.53993484, 0.71425242, 0.62359217, ..., 0.36049691, 0.74512996,\n",
            "       0.56633862])}, {'weights': array([0.31496524, 0.98606288, 0.9544881 , ..., 0.78207578, 0.44901136,\n",
            "       0.80402102])}, {'weights': array([0.70948736, 0.05676443, 0.34142089, ..., 0.36449951, 0.27082314,\n",
            "       0.75452649])}, {'weights': array([0.1159959 , 0.92201473, 0.13325884, ..., 0.7214039 , 0.13578897,\n",
            "       0.59970657])}, {'weights': array([0.98106796, 0.92604623, 0.56064696, ..., 0.31637028, 0.39445806,\n",
            "       0.40737653])}, {'weights': array([0.53614767, 0.25796809, 0.23507691, ..., 0.66321777, 0.63489587,\n",
            "       0.73761649])}, {'weights': array([0.8495164 , 0.69478224, 0.27788423, ..., 0.74817447, 0.21296542,\n",
            "       0.062683  ])}, {'weights': array([0.11135842, 0.93859525, 0.17625267, ..., 0.63909683, 0.56655448,\n",
            "       0.95559093])}, {'weights': array([0.44397933, 0.94790839, 0.52015527, ..., 0.26116872, 0.87859071,\n",
            "       0.8126147 ])}, {'weights': array([0.14829923, 0.261379  , 0.17448668, ..., 0.49849251, 0.25244266,\n",
            "       0.78952124])}, {'weights': array([0.920873  , 0.4003731 , 0.62661429, ..., 0.92712769, 0.23308986,\n",
            "       0.08591213])}, {'weights': array([0.88487257, 0.8971527 , 0.37997376, ..., 0.14453008, 0.76780359,\n",
            "       0.12543128])}, {'weights': array([0.38200822, 0.72687126, 0.43045939, ..., 0.94305866, 0.19216305,\n",
            "       0.1463327 ])}], [{'weights': array([0.23877403, 0.25539895, 0.22647171, 0.30384431, 0.78302052,\n",
            "       0.5870644 , 0.13178748, 0.85120043, 0.81034762, 0.29762561,\n",
            "       0.04874945, 0.88222283, 0.34235989, 0.26051882, 0.43544737])}, {'weights': array([0.79331541, 0.47080472, 0.00379103, 0.36144836, 0.9447576 ,\n",
            "       0.61258378, 0.35826459, 0.39413604, 0.42067097, 0.07785019,\n",
            "       0.99160567, 0.67280157, 0.7434665 , 0.7256799 , 0.9459933 ])}, {'weights': array([0.33945947, 0.42748685, 0.0035786 , 0.11772108, 0.89555119,\n",
            "       0.90565897, 0.40583123, 0.46558294, 0.55638306, 0.08963397,\n",
            "       0.18074473, 0.4248923 , 0.45038264, 0.1938789 , 0.28602091])}, {'weights': array([0.33453646, 0.1420412 , 0.46522702, 0.63804805, 0.51173325,\n",
            "       0.64090869, 0.84761956, 0.75079314, 0.86650024, 0.59333268,\n",
            "       0.84969498, 0.41876595, 0.62135062, 0.96112301, 0.41244902])}, {'weights': array([0.26533432, 0.80347184, 0.92581944, 0.34944423, 0.94409639,\n",
            "       0.52201588, 0.70784786, 0.82990294, 0.07719274, 0.98773614,\n",
            "       0.21552484, 0.71720925, 0.51065083, 0.40281203, 0.95190322])}, {'weights': array([0.84650154, 0.73374799, 0.56622619, 0.74030158, 0.61002229,\n",
            "       0.19058688, 0.92701961, 0.34928633, 0.2764044 , 0.45677971,\n",
            "       0.78809089, 0.85573145, 0.14311313, 0.76694426, 0.25086531])}, {'weights': array([0.37057349, 0.9587986 , 0.1530789 , 0.83857875, 0.81918311,\n",
            "       0.34793326, 0.00911815, 0.89036626, 0.89798835, 0.87424484,\n",
            "       0.88016868, 0.73959877, 0.48813167, 0.78420655, 0.92361485])}, {'weights': array([0.70350474, 0.0091047 , 0.64370265, 0.12814494, 0.55462342,\n",
            "       0.55677752, 0.63982253, 0.26527831, 0.48112481, 0.84173581,\n",
            "       0.44152192, 0.64932245, 0.23896931, 0.34093425, 0.84192526])}, {'weights': array([0.89521331, 0.67003284, 0.61114437, 0.59247234, 0.28963593,\n",
            "       0.03400372, 0.62931063, 0.36146089, 0.01687851, 0.87727283,\n",
            "       0.3277571 , 0.53871831, 0.60362226, 0.259284  , 0.50181047])}, {'weights': array([0.4898324 , 0.25212449, 0.8764746 , 0.34864168, 0.02603458,\n",
            "       0.30931519, 0.41566057, 0.31549634, 0.44534148, 0.39414552,\n",
            "       0.26052555, 0.76323723, 0.34629157, 0.6976838 , 0.21528579])}]] 2\n",
            "[[{'weights': array([0.92148552, 0.83426361, 0.41672271, ..., 0.7591207 , 0.93747008,\n",
            "       0.04521147]), 'output': 1.0, 'delta': -0.0}, {'weights': array([0.31136416, 0.44833657, 0.61545489, ..., 0.98651966, 0.96625908,\n",
            "       0.02219402]), 'output': 1.0, 'delta': 0.0}, {'weights': array([0.53993484, 0.71425242, 0.62359217, ..., 0.36049691, 0.74512996,\n",
            "       0.56633862]), 'output': 1.0, 'delta': -0.0}, {'weights': array([0.31496524, 0.98606288, 0.9544881 , ..., 0.78207578, 0.44901136,\n",
            "       0.80402102]), 'output': 1.0, 'delta': -0.0}, {'weights': array([0.70948736, 0.05676443, 0.34142089, ..., 0.36449951, 0.27082314,\n",
            "       0.75452649]), 'output': 1.0, 'delta': 0.0}, {'weights': array([0.1159959 , 0.92201473, 0.13325884, ..., 0.7214039 , 0.13578897,\n",
            "       0.59970657]), 'output': 1.0, 'delta': -0.0}, {'weights': array([0.98106796, 0.92604623, 0.56064696, ..., 0.31637028, 0.39445806,\n",
            "       0.40737653]), 'output': 1.0, 'delta': -0.0}, {'weights': array([0.53614767, 0.25796809, 0.23507691, ..., 0.66321777, 0.63489587,\n",
            "       0.73761649]), 'output': 1.0, 'delta': 0.0}, {'weights': array([0.8495164 , 0.69478224, 0.27788423, ..., 0.74817447, 0.21296542,\n",
            "       0.062683  ]), 'output': 1.0, 'delta': -0.0}, {'weights': array([0.11135842, 0.93859525, 0.17625267, ..., 0.63909683, 0.56655448,\n",
            "       0.95559093]), 'output': 1.0, 'delta': 0.0}, {'weights': array([0.44397933, 0.94790839, 0.52015527, ..., 0.26116872, 0.87859071,\n",
            "       0.8126147 ]), 'output': 1.0, 'delta': 0.0}, {'weights': array([0.14829923, 0.261379  , 0.17448668, ..., 0.49849251, 0.25244266,\n",
            "       0.78952124]), 'output': 1.0, 'delta': 0.0}, {'weights': array([0.920873  , 0.4003731 , 0.62661429, ..., 0.92712769, 0.23308986,\n",
            "       0.08591213]), 'output': 1.0, 'delta': -0.0}, {'weights': array([0.88487257, 0.8971527 , 0.37997376, ..., 0.14453008, 0.76780359,\n",
            "       0.12543128]), 'output': 1.0, 'delta': 0.0}, {'weights': array([0.38200822, 0.72687126, 0.43045939, ..., 0.94305866, 0.19216305,\n",
            "       0.1463327 ]), 'output': 1.0, 'delta': -0.0}], [{'weights': array([-0.48653784, -0.46991293, -0.49884017, -0.42146756,  0.05770864,\n",
            "       -0.13824748, -0.5935244 ,  0.12588855,  0.08503574, -0.42768627,\n",
            "       -0.67656243,  0.15691095, -0.38295199, -0.46479306, -1.01517639]), 'output': 0.005768102206775582, 'delta': 3.307909252159227e-05}, {'weights': array([-0.05018495, -0.37269565, -0.83970934, -0.48205201,  0.10125723,\n",
            "       -0.23091659, -0.48523578, -0.44936433, -0.4228294 , -0.76565018,\n",
            "        0.1481053 , -0.1706988 , -0.10003387, -0.11782047, -0.74100744]), 'output': 0.006840076313959769, 'delta': 4.646661976549077e-05}, {'weights': array([-0.34201287, -0.2539855 , -0.67789375, -0.56375127,  0.21407885,\n",
            "        0.22418662, -0.27564111, -0.21588941, -0.12508929, -0.59183838,\n",
            "       -0.50072762, -0.25658005, -0.2310897 , -0.48759345, -1.07692379]), 'output': 0.005707601474856191, 'delta': 3.239077969150773e-05}, {'weights': array([-0.53006444, -0.7225597 , -0.39937388, -0.22655285, -0.35286765,\n",
            "       -0.22369221, -0.01698134, -0.11380776,  0.00189934, -0.27126822,\n",
            "       -0.01490592, -0.44583496, -0.24325028,  0.09652211, -1.31675279]), 'output': 0.008339420867240129, 'delta': 6.896596753434848e-05}, {'weights': array([-0.60206356, -0.06392605,  0.05842156, -0.51795366,  0.0766985 ,\n",
            "       -0.34538201, -0.15955002, -0.03749494, -0.79020515,  0.12033825,\n",
            "       -0.65187305, -0.15018863, -0.35674706, -0.46458586, -0.78289255]), 'output': 0.009321866117163085, 'delta': 8.608714395469256e-05}, {'weights': array([ 0.00375042, -0.10900313, -0.27652492, -0.10244954, -0.23272882,\n",
            "       -0.65216424,  0.0842685 , -0.49346479, -0.56634672, -0.3859714 ,\n",
            "       -0.05466023,  0.01298034, -0.69963799, -0.07580686, -1.43463692]), 'output': 0.006815899147918054, 'delta': 4.613983850400058e-05}, {'weights': array([ 0.28531479,  0.8735399 ,  0.0678202 ,  0.75332005,  0.73392441,\n",
            "        0.26267456, -0.07614056,  0.80510756,  0.81272965,  0.78898614,\n",
            "        0.79490998,  0.65434007,  0.40287297,  0.69894785,  0.75309745]), 'output': 0.9998185496740942, 'delta': 0.00018138448343834224}, {'weights': array([-0.07499009, -0.76939012, -0.13479217, -0.65034989, -0.2238714 ,\n",
            "       -0.2217173 , -0.1386723 , -0.51321652, -0.29737001,  0.06324098,\n",
            "       -0.33697291, -0.12917237, -0.53952552, -0.43756057, -0.71506438]), 'output': 0.005947246038029933, 'delta': 3.515938291791969e-05}, {'weights': array([ 0.1243379 , -0.10084258, -0.15973104, -0.17840308, -0.48123949,\n",
            "       -0.73687169, -0.14156478, -0.40941453, -0.7539969 ,  0.10639741,\n",
            "       -0.44311832, -0.2321571 , -0.16725316, -0.51159141, -1.03994035]), 'output': 0.005912049185069966, 'delta': 3.4745685698803626e-05}, {'weights': array([-0.2171525 , -0.45486041,  0.1694897 , -0.35834322, -0.68095032,\n",
            "       -0.39766971, -0.29132433, -0.39148856, -0.26164342, -0.31283939,\n",
            "       -0.44645935,  0.05625233, -0.36069333, -0.0093011 , -1.19868402]), 'output': 0.005736550660260451, 'delta': 3.2719234991291064e-05}]] 2\n",
            "training finished in 44.17771911621094 seconds\n"
          ]
        }
      ]
    },
    {
      "cell_type": "code",
      "source": [
        "model_accuracy(p.predict(test_df['data']), test_df['labels'])"
      ],
      "metadata": {
        "colab": {
          "base_uri": "https://localhost:8080/"
        },
        "id": "wMJXwJ3t08nA",
        "outputId": "30f13893-fb8e-4a2d-a458-3819c7957457"
      },
      "execution_count": 96,
      "outputs": [
        {
          "output_type": "execute_result",
          "data": {
            "text/plain": [
              "0.09999999999999998"
            ]
          },
          "metadata": {},
          "execution_count": 96
        }
      ]
    },
    {
      "cell_type": "code",
      "source": [
        "# pred = p.predict(test_df['data'])\n",
        "# model_accuracy(pred, test_df['labels'])\n",
        "\n",
        "print(p.network)\n",
        "for layer in p.network:\n",
        "    print(layer['weights'])"
      ],
      "metadata": {
        "colab": {
          "base_uri": "https://localhost:8080/"
        },
        "id": "F4P1elCX518T",
        "outputId": "45580d0f-79c7-45db-93d2-3baa0112771a"
      },
      "execution_count": 91,
      "outputs": [
        {
          "output_type": "stream",
          "name": "stdout",
          "text": [
            "[{'weights': array([[0.06333452, 0.64183555, 0.88940949, ..., 0.33972521, 0.83074763,\n",
            "        0.5618703 ],\n",
            "       [0.5434364 , 0.51450717, 0.67390356, ..., 0.7886137 , 0.17420055,\n",
            "        0.81447905],\n",
            "       [0.05297342, 0.59468982, 0.00620761, ..., 0.16030816, 0.64791164,\n",
            "        0.46822974],\n",
            "       ...,\n",
            "       [0.05372543, 0.74213685, 0.99748598, ..., 0.24922315, 0.37484981,\n",
            "        0.5811557 ],\n",
            "       [0.57945028, 0.40299396, 0.93440814, ..., 0.68562113, 0.94212376,\n",
            "        0.79693881],\n",
            "       [0.04434035, 0.54027023, 0.00769523, ..., 0.28260398, 0.6510968 ,\n",
            "        0.02575097]]), 'output': array([1., 1., 1., 1., 1., 1., 1., 1., 1., 1., 1., 1., 1., 1., 1., 1., 1.,\n",
            "       1., 1., 1., 1., 1., 1., 1., 1., 1., 1., 1., 1., 1., 1., 1., 1., 1.,\n",
            "       1., 1., 1., 1., 1., 1., 1., 1., 1., 1., 1., 1., 1., 1., 1., 1., 1.,\n",
            "       1., 1., 1., 1., 1., 1., 1., 1., 1., 1., 1., 1., 1., 1., 1., 1., 1.,\n",
            "       1., 1., 1., 1., 1., 1., 1., 1., 1., 1., 1., 1., 1., 1., 1., 1., 1.,\n",
            "       1., 1., 1., 1., 1., 1., 1., 1., 1., 1., 1., 1., 1., 1., 1.])}, {'weights': array([[0.40991405, 0.04224305, 0.63616377, ..., 0.19521069, 0.33784008,\n",
            "        0.22553842],\n",
            "       [0.65620929, 0.0176984 , 0.85275466, ..., 0.66691219, 0.95714641,\n",
            "        0.11649353],\n",
            "       [0.02475348, 0.10691847, 0.92234319, ..., 0.64454301, 0.23217982,\n",
            "        0.28932052],\n",
            "       ...,\n",
            "       [0.90927976, 0.91432744, 0.26987132, ..., 0.59219358, 0.99975686,\n",
            "        0.97978477],\n",
            "       [0.99367178, 0.19660607, 0.91041249, ..., 0.75638615, 0.88732325,\n",
            "        0.47954415],\n",
            "       [0.15924182, 0.15452748, 0.81640934, ..., 0.68448755, 0.16540161,\n",
            "        0.74080546]])}, {'weights': array([[0.36571269, 0.32364631, 0.99557023, 0.09645604, 0.11517924,\n",
            "        0.06798571, 0.06114438, 0.97278887, 0.19099172, 0.92636677,\n",
            "        0.66101818, 0.75197911, 0.62276982, 0.59893764, 0.2197023 ,\n",
            "        0.30817575, 0.59622804, 0.44380674, 0.07559299, 0.42424368,\n",
            "        0.73431736, 0.58389697, 0.44079021, 0.82533661, 0.33893859,\n",
            "        0.13218578, 0.73525554, 0.45602936, 0.03527717, 0.35833525,\n",
            "        0.64675823, 0.21486116, 0.87975651, 0.15872622, 0.53370881,\n",
            "        0.3102795 , 0.6972459 , 0.20924756, 0.39537651, 0.613665  ,\n",
            "        0.87560224, 0.38269906, 0.2435815 , 0.75443016, 0.50740188,\n",
            "        0.07022626, 0.04632318, 0.23658026, 0.69508145, 0.22864599,\n",
            "        0.17548504, 0.29595209, 0.93364082, 0.11683321, 0.02193657,\n",
            "        0.70677615, 0.80159662, 0.30889785, 0.3976185 , 0.97687721,\n",
            "        0.7207183 , 0.03086697, 0.30545714, 0.62504021, 0.30370673,\n",
            "        0.97076479, 0.81098539, 0.62557112, 0.15511792, 0.85535847],\n",
            "       [0.61121198, 0.61784606, 0.14204766, 0.73059471, 0.84353411,\n",
            "        0.59501501, 0.41169418, 0.36426389, 0.34462929, 0.36642099,\n",
            "        0.35603327, 0.0259041 , 0.01018101, 0.98670876, 0.53635434,\n",
            "        0.86628551, 0.93437181, 0.35747389, 0.05226894, 0.13493512,\n",
            "        0.66549597, 0.90955978, 0.09887357, 0.20936113, 0.05217778,\n",
            "        0.89638527, 0.43935545, 0.83587101, 0.51812593, 0.7132098 ,\n",
            "        0.38995001, 0.02727596, 0.58462942, 0.23278293, 0.42612796,\n",
            "        0.87779357, 0.20949351, 0.26310622, 0.24402588, 0.87926714,\n",
            "        0.47126046, 0.49283087, 0.42163206, 0.51330684, 0.28902511,\n",
            "        0.60535048, 0.46983104, 0.65085834, 0.2461518 , 0.74357211,\n",
            "        0.79442117, 0.35547029, 0.05264079, 0.8963173 , 0.79223203,\n",
            "        0.11455662, 0.27752958, 0.46458606, 0.17772748, 0.28151261,\n",
            "        0.14858596, 0.69447253, 0.38169326, 0.46605473, 0.21617668,\n",
            "        0.20714169, 0.85218266, 0.14888799, 0.52349774, 0.58157469],\n",
            "       [0.50472062, 0.19587453, 0.65781636, 0.64535113, 0.40197814,\n",
            "        0.03708184, 0.03072572, 0.72539084, 0.21209411, 0.0947639 ,\n",
            "        0.85517857, 0.32025444, 0.78405497, 0.62287515, 0.85512251,\n",
            "        0.64035075, 0.44350217, 0.97393418, 0.88179159, 0.39931446,\n",
            "        0.16025705, 0.71159715, 0.86045258, 0.53248055, 0.35485991,\n",
            "        0.42692325, 0.22567582, 0.99874835, 0.34362283, 0.26511868,\n",
            "        0.31142385, 0.76201655, 0.60964932, 0.72245582, 0.3555149 ,\n",
            "        0.23744276, 0.45922444, 0.16937711, 0.15145248, 0.41158013,\n",
            "        0.88347971, 0.10936603, 0.97295006, 0.93794157, 0.61193301,\n",
            "        0.51178248, 0.66882789, 0.75814969, 0.41359607, 0.82344141,\n",
            "        0.07423391, 0.3096787 , 0.05500431, 0.74314135, 0.36306282,\n",
            "        0.53847268, 0.65304767, 0.29067411, 0.88323161, 0.93079655,\n",
            "        0.83604205, 0.95947288, 0.58057397, 0.69285069, 0.41338742,\n",
            "        0.47545918, 0.2066279 , 0.26221739, 0.34053613, 0.15832455],\n",
            "       [0.8635078 , 0.99809771, 0.79228019, 0.0394357 , 0.39009775,\n",
            "        0.90795153, 0.65466254, 0.90909565, 0.22426771, 0.44079421,\n",
            "        0.6581199 , 0.91578097, 0.46970712, 0.67183481, 0.74801057,\n",
            "        0.93865724, 0.88060667, 0.21239616, 0.72880124, 0.59802177,\n",
            "        0.21008256, 0.72311508, 0.5869636 , 0.92675911, 0.95411462,\n",
            "        0.57201006, 0.6633454 , 0.00489421, 0.78084025, 0.77625809,\n",
            "        0.08929062, 0.22604002, 0.3260535 , 0.9169959 , 0.03183452,\n",
            "        0.59482058, 0.46743195, 0.3667618 , 0.32338771, 0.90510485,\n",
            "        0.6322123 , 0.25768476, 0.11109617, 0.9896707 , 0.59347466,\n",
            "        0.74772521, 0.57692798, 0.97580426, 0.41194336, 0.02044112,\n",
            "        0.11840968, 0.01754037, 0.43058181, 0.34406863, 0.02094698,\n",
            "        0.27451274, 0.91387476, 0.91917062, 0.52451376, 0.34382556,\n",
            "        0.87923169, 0.55506403, 0.84061197, 0.2688051 , 0.5658467 ,\n",
            "        0.25914628, 0.70767398, 0.74133009, 0.5394207 , 0.51605189],\n",
            "       [0.35123074, 0.43715332, 0.27746307, 0.51837281, 0.16392545,\n",
            "        0.40468457, 0.06230881, 0.7204918 , 0.1595199 , 0.08228089,\n",
            "        0.43433718, 0.39177443, 0.72089763, 0.73151853, 0.1820143 ,\n",
            "        0.35893918, 0.89018817, 0.67865086, 0.21861448, 0.44102872,\n",
            "        0.16175403, 0.13027777, 0.32319113, 0.28932568, 0.65670429,\n",
            "        0.67483661, 0.46558481, 0.22371587, 0.60227879, 0.17040197,\n",
            "        0.59636034, 0.18979031, 0.90939133, 0.54702748, 0.78398462,\n",
            "        0.62414523, 0.27287409, 0.50263718, 0.58872933, 0.79238179,\n",
            "        0.92460925, 0.27148797, 0.94444091, 0.54229426, 0.78895391,\n",
            "        0.44648503, 0.22769227, 0.63403294, 0.1164749 , 0.03237469,\n",
            "        0.32182341, 0.72154538, 0.31295611, 0.14960736, 0.89228864,\n",
            "        0.16689874, 0.2353401 , 0.25875784, 0.68327823, 0.80280956,\n",
            "        0.64029334, 0.24193853, 0.15109601, 0.21607889, 0.79416846,\n",
            "        0.4783148 , 0.85624819, 0.82148315, 0.37074584, 0.84109922],\n",
            "       [0.66285336, 0.30182954, 0.24604506, 0.14719586, 0.72090773,\n",
            "        0.3135155 , 0.14492215, 0.92953308, 0.82883785, 0.344686  ,\n",
            "        0.94305915, 0.59456411, 0.67119254, 0.37193532, 0.66245522,\n",
            "        0.72585239, 0.35298076, 0.57515109, 0.61150485, 0.21199769,\n",
            "        0.1026325 , 0.9609293 , 0.70269201, 0.31651761, 0.72666172,\n",
            "        0.97255132, 0.79642897, 0.46830683, 0.92887845, 0.07460454,\n",
            "        0.98307614, 0.73890028, 0.39738144, 0.35804828, 0.48099727,\n",
            "        0.500532  , 0.55968915, 0.00908157, 0.70034618, 0.73908802,\n",
            "        0.38105069, 0.03847951, 0.84626067, 0.78838982, 0.90709443,\n",
            "        0.31600156, 0.92218933, 0.6407353 , 0.57314207, 0.11119667,\n",
            "        0.20531867, 0.91790336, 0.67730648, 0.39406065, 0.268427  ,\n",
            "        0.12985487, 0.99521803, 0.00424334, 0.58900499, 0.77486405,\n",
            "        0.73251312, 0.33454579, 0.35244254, 0.0266    , 0.17395513,\n",
            "        0.8436811 , 0.49788103, 0.87349072, 0.58867828, 0.36934029],\n",
            "       [0.13827934, 0.16019631, 0.57069472, 0.71386241, 0.09504131,\n",
            "        0.96968082, 0.01135513, 0.74819732, 0.42789996, 0.62151681,\n",
            "        0.72650828, 0.46877076, 0.68315428, 0.34417534, 0.18659673,\n",
            "        0.59062429, 0.91568597, 0.64730061, 0.42349646, 0.95305311,\n",
            "        0.26059972, 0.88625662, 0.52816678, 0.98269904, 0.96485484,\n",
            "        0.5575831 , 0.61449202, 0.7192804 , 0.07545672, 0.70885642,\n",
            "        0.59454383, 0.1668792 , 0.99748946, 0.02904784, 0.75711702,\n",
            "        0.09642356, 0.04240979, 0.61380404, 0.29882081, 0.29153325,\n",
            "        0.76523372, 0.01210155, 0.95696783, 0.67547377, 0.9269673 ,\n",
            "        0.5246947 , 0.12843302, 0.41090725, 0.12487927, 0.99065574,\n",
            "        0.2637804 , 0.0682262 , 0.289097  , 0.273812  , 0.96668555,\n",
            "        0.6755767 , 0.97103302, 0.53946484, 0.10580462, 0.46436639,\n",
            "        0.50778119, 0.22397463, 0.31002883, 0.28689658, 0.42751827,\n",
            "        0.48969124, 0.0838981 , 0.31041089, 0.38228902, 0.18128756],\n",
            "       [0.34499377, 0.21705873, 0.33222789, 0.22031807, 0.24997892,\n",
            "        0.5343468 , 0.44706839, 0.04359022, 0.37761238, 0.94315251,\n",
            "        0.72955401, 0.9360135 , 0.83650156, 0.51753522, 0.81512998,\n",
            "        0.70668866, 0.95547969, 0.07172562, 0.85270404, 0.63254597,\n",
            "        0.92286387, 0.67009182, 0.45316301, 0.80843447, 0.13354739,\n",
            "        0.14864402, 0.91950341, 0.4015141 , 0.4522415 , 0.69249016,\n",
            "        0.46864383, 0.28187563, 0.07634599, 0.43411583, 0.35323556,\n",
            "        0.12792717, 0.50461511, 0.49780914, 0.93749805, 0.98278517,\n",
            "        0.45304119, 0.3472338 , 0.14867878, 0.72342638, 0.57521321,\n",
            "        0.41361352, 0.34082601, 0.99981825, 0.57447563, 0.08296697,\n",
            "        0.79970327, 0.7491939 , 0.41565805, 0.58235865, 0.42065328,\n",
            "        0.97715003, 0.47124443, 0.16001963, 0.62867604, 0.46168371,\n",
            "        0.28954616, 0.13950261, 0.58821268, 0.59446124, 0.03204052,\n",
            "        0.8710919 , 0.54766841, 0.23676029, 0.17710003, 0.70441947],\n",
            "       [0.55577933, 0.64234383, 0.11458847, 0.89246465, 0.94328169,\n",
            "        0.36041814, 0.25739174, 0.26962865, 0.82157038, 0.36863731,\n",
            "        0.19428303, 0.93497598, 0.92579083, 0.42638388, 0.61250107,\n",
            "        0.03985209, 0.8647035 , 0.17223043, 0.88951042, 0.51885042,\n",
            "        0.81136748, 0.46980642, 0.74771994, 0.27445305, 0.44089478,\n",
            "        0.18770932, 0.81704046, 0.26631605, 0.84847582, 0.36204889,\n",
            "        0.69974741, 0.55885326, 0.16206354, 0.27500844, 0.62131068,\n",
            "        0.45933607, 0.32790095, 0.54607108, 0.33327562, 0.93722126,\n",
            "        0.26350372, 0.16711136, 0.1015941 , 0.19720344, 0.04177155,\n",
            "        0.60485039, 0.89311763, 0.13156061, 0.93578376, 0.92501123,\n",
            "        0.08474153, 0.48472939, 0.23441681, 0.80457245, 0.29839608,\n",
            "        0.26068178, 0.75738493, 0.17299633, 0.17822223, 0.63308817,\n",
            "        0.56530445, 0.72032034, 0.68723423, 0.04389811, 0.99216275,\n",
            "        0.67466465, 0.16973427, 0.87148551, 0.74591611, 0.90462776],\n",
            "       [0.22577023, 0.80849655, 0.73286141, 0.24794608, 0.92845234,\n",
            "        0.34349625, 0.35365614, 0.85139369, 0.34568251, 0.47974979,\n",
            "        0.73536139, 0.70304041, 0.576899  , 0.43459518, 0.48569341,\n",
            "        0.57572411, 0.8831138 , 0.35632208, 0.1442006 , 0.79831193,\n",
            "        0.97588245, 0.776965  , 0.26222728, 0.4394319 , 0.29229247,\n",
            "        0.95477362, 0.25042375, 0.55307265, 0.51987396, 0.22836281,\n",
            "        0.39872926, 0.5651091 , 0.65134683, 0.68158196, 0.99503809,\n",
            "        0.77004838, 0.87109534, 0.33926348, 0.92666444, 0.85516032,\n",
            "        0.47569649, 0.80395176, 0.48639685, 0.19339385, 0.43986276,\n",
            "        0.78221691, 0.0392242 , 0.50854037, 0.44281784, 0.48670216,\n",
            "        0.63935283, 0.42958929, 0.13444971, 0.04997554, 0.95634661,\n",
            "        0.39475004, 0.2278334 , 0.78455345, 0.51719621, 0.46753072,\n",
            "        0.72310017, 0.9074978 , 0.42986891, 0.09284098, 0.24940457,\n",
            "        0.20096633, 0.91612778, 0.22500195, 0.35940388, 0.83810833]])}]\n",
            "[[0.06333452 0.64183555 0.88940949 ... 0.33972521 0.83074763 0.5618703 ]\n",
            " [0.5434364  0.51450717 0.67390356 ... 0.7886137  0.17420055 0.81447905]\n",
            " [0.05297342 0.59468982 0.00620761 ... 0.16030816 0.64791164 0.46822974]\n",
            " ...\n",
            " [0.05372543 0.74213685 0.99748598 ... 0.24922315 0.37484981 0.5811557 ]\n",
            " [0.57945028 0.40299396 0.93440814 ... 0.68562113 0.94212376 0.79693881]\n",
            " [0.04434035 0.54027023 0.00769523 ... 0.28260398 0.6510968  0.02575097]]\n",
            "[[0.40991405 0.04224305 0.63616377 ... 0.19521069 0.33784008 0.22553842]\n",
            " [0.65620929 0.0176984  0.85275466 ... 0.66691219 0.95714641 0.11649353]\n",
            " [0.02475348 0.10691847 0.92234319 ... 0.64454301 0.23217982 0.28932052]\n",
            " ...\n",
            " [0.90927976 0.91432744 0.26987132 ... 0.59219358 0.99975686 0.97978477]\n",
            " [0.99367178 0.19660607 0.91041249 ... 0.75638615 0.88732325 0.47954415]\n",
            " [0.15924182 0.15452748 0.81640934 ... 0.68448755 0.16540161 0.74080546]]\n",
            "[[0.36571269 0.32364631 0.99557023 0.09645604 0.11517924 0.06798571\n",
            "  0.06114438 0.97278887 0.19099172 0.92636677 0.66101818 0.75197911\n",
            "  0.62276982 0.59893764 0.2197023  0.30817575 0.59622804 0.44380674\n",
            "  0.07559299 0.42424368 0.73431736 0.58389697 0.44079021 0.82533661\n",
            "  0.33893859 0.13218578 0.73525554 0.45602936 0.03527717 0.35833525\n",
            "  0.64675823 0.21486116 0.87975651 0.15872622 0.53370881 0.3102795\n",
            "  0.6972459  0.20924756 0.39537651 0.613665   0.87560224 0.38269906\n",
            "  0.2435815  0.75443016 0.50740188 0.07022626 0.04632318 0.23658026\n",
            "  0.69508145 0.22864599 0.17548504 0.29595209 0.93364082 0.11683321\n",
            "  0.02193657 0.70677615 0.80159662 0.30889785 0.3976185  0.97687721\n",
            "  0.7207183  0.03086697 0.30545714 0.62504021 0.30370673 0.97076479\n",
            "  0.81098539 0.62557112 0.15511792 0.85535847]\n",
            " [0.61121198 0.61784606 0.14204766 0.73059471 0.84353411 0.59501501\n",
            "  0.41169418 0.36426389 0.34462929 0.36642099 0.35603327 0.0259041\n",
            "  0.01018101 0.98670876 0.53635434 0.86628551 0.93437181 0.35747389\n",
            "  0.05226894 0.13493512 0.66549597 0.90955978 0.09887357 0.20936113\n",
            "  0.05217778 0.89638527 0.43935545 0.83587101 0.51812593 0.7132098\n",
            "  0.38995001 0.02727596 0.58462942 0.23278293 0.42612796 0.87779357\n",
            "  0.20949351 0.26310622 0.24402588 0.87926714 0.47126046 0.49283087\n",
            "  0.42163206 0.51330684 0.28902511 0.60535048 0.46983104 0.65085834\n",
            "  0.2461518  0.74357211 0.79442117 0.35547029 0.05264079 0.8963173\n",
            "  0.79223203 0.11455662 0.27752958 0.46458606 0.17772748 0.28151261\n",
            "  0.14858596 0.69447253 0.38169326 0.46605473 0.21617668 0.20714169\n",
            "  0.85218266 0.14888799 0.52349774 0.58157469]\n",
            " [0.50472062 0.19587453 0.65781636 0.64535113 0.40197814 0.03708184\n",
            "  0.03072572 0.72539084 0.21209411 0.0947639  0.85517857 0.32025444\n",
            "  0.78405497 0.62287515 0.85512251 0.64035075 0.44350217 0.97393418\n",
            "  0.88179159 0.39931446 0.16025705 0.71159715 0.86045258 0.53248055\n",
            "  0.35485991 0.42692325 0.22567582 0.99874835 0.34362283 0.26511868\n",
            "  0.31142385 0.76201655 0.60964932 0.72245582 0.3555149  0.23744276\n",
            "  0.45922444 0.16937711 0.15145248 0.41158013 0.88347971 0.10936603\n",
            "  0.97295006 0.93794157 0.61193301 0.51178248 0.66882789 0.75814969\n",
            "  0.41359607 0.82344141 0.07423391 0.3096787  0.05500431 0.74314135\n",
            "  0.36306282 0.53847268 0.65304767 0.29067411 0.88323161 0.93079655\n",
            "  0.83604205 0.95947288 0.58057397 0.69285069 0.41338742 0.47545918\n",
            "  0.2066279  0.26221739 0.34053613 0.15832455]\n",
            " [0.8635078  0.99809771 0.79228019 0.0394357  0.39009775 0.90795153\n",
            "  0.65466254 0.90909565 0.22426771 0.44079421 0.6581199  0.91578097\n",
            "  0.46970712 0.67183481 0.74801057 0.93865724 0.88060667 0.21239616\n",
            "  0.72880124 0.59802177 0.21008256 0.72311508 0.5869636  0.92675911\n",
            "  0.95411462 0.57201006 0.6633454  0.00489421 0.78084025 0.77625809\n",
            "  0.08929062 0.22604002 0.3260535  0.9169959  0.03183452 0.59482058\n",
            "  0.46743195 0.3667618  0.32338771 0.90510485 0.6322123  0.25768476\n",
            "  0.11109617 0.9896707  0.59347466 0.74772521 0.57692798 0.97580426\n",
            "  0.41194336 0.02044112 0.11840968 0.01754037 0.43058181 0.34406863\n",
            "  0.02094698 0.27451274 0.91387476 0.91917062 0.52451376 0.34382556\n",
            "  0.87923169 0.55506403 0.84061197 0.2688051  0.5658467  0.25914628\n",
            "  0.70767398 0.74133009 0.5394207  0.51605189]\n",
            " [0.35123074 0.43715332 0.27746307 0.51837281 0.16392545 0.40468457\n",
            "  0.06230881 0.7204918  0.1595199  0.08228089 0.43433718 0.39177443\n",
            "  0.72089763 0.73151853 0.1820143  0.35893918 0.89018817 0.67865086\n",
            "  0.21861448 0.44102872 0.16175403 0.13027777 0.32319113 0.28932568\n",
            "  0.65670429 0.67483661 0.46558481 0.22371587 0.60227879 0.17040197\n",
            "  0.59636034 0.18979031 0.90939133 0.54702748 0.78398462 0.62414523\n",
            "  0.27287409 0.50263718 0.58872933 0.79238179 0.92460925 0.27148797\n",
            "  0.94444091 0.54229426 0.78895391 0.44648503 0.22769227 0.63403294\n",
            "  0.1164749  0.03237469 0.32182341 0.72154538 0.31295611 0.14960736\n",
            "  0.89228864 0.16689874 0.2353401  0.25875784 0.68327823 0.80280956\n",
            "  0.64029334 0.24193853 0.15109601 0.21607889 0.79416846 0.4783148\n",
            "  0.85624819 0.82148315 0.37074584 0.84109922]\n",
            " [0.66285336 0.30182954 0.24604506 0.14719586 0.72090773 0.3135155\n",
            "  0.14492215 0.92953308 0.82883785 0.344686   0.94305915 0.59456411\n",
            "  0.67119254 0.37193532 0.66245522 0.72585239 0.35298076 0.57515109\n",
            "  0.61150485 0.21199769 0.1026325  0.9609293  0.70269201 0.31651761\n",
            "  0.72666172 0.97255132 0.79642897 0.46830683 0.92887845 0.07460454\n",
            "  0.98307614 0.73890028 0.39738144 0.35804828 0.48099727 0.500532\n",
            "  0.55968915 0.00908157 0.70034618 0.73908802 0.38105069 0.03847951\n",
            "  0.84626067 0.78838982 0.90709443 0.31600156 0.92218933 0.6407353\n",
            "  0.57314207 0.11119667 0.20531867 0.91790336 0.67730648 0.39406065\n",
            "  0.268427   0.12985487 0.99521803 0.00424334 0.58900499 0.77486405\n",
            "  0.73251312 0.33454579 0.35244254 0.0266     0.17395513 0.8436811\n",
            "  0.49788103 0.87349072 0.58867828 0.36934029]\n",
            " [0.13827934 0.16019631 0.57069472 0.71386241 0.09504131 0.96968082\n",
            "  0.01135513 0.74819732 0.42789996 0.62151681 0.72650828 0.46877076\n",
            "  0.68315428 0.34417534 0.18659673 0.59062429 0.91568597 0.64730061\n",
            "  0.42349646 0.95305311 0.26059972 0.88625662 0.52816678 0.98269904\n",
            "  0.96485484 0.5575831  0.61449202 0.7192804  0.07545672 0.70885642\n",
            "  0.59454383 0.1668792  0.99748946 0.02904784 0.75711702 0.09642356\n",
            "  0.04240979 0.61380404 0.29882081 0.29153325 0.76523372 0.01210155\n",
            "  0.95696783 0.67547377 0.9269673  0.5246947  0.12843302 0.41090725\n",
            "  0.12487927 0.99065574 0.2637804  0.0682262  0.289097   0.273812\n",
            "  0.96668555 0.6755767  0.97103302 0.53946484 0.10580462 0.46436639\n",
            "  0.50778119 0.22397463 0.31002883 0.28689658 0.42751827 0.48969124\n",
            "  0.0838981  0.31041089 0.38228902 0.18128756]\n",
            " [0.34499377 0.21705873 0.33222789 0.22031807 0.24997892 0.5343468\n",
            "  0.44706839 0.04359022 0.37761238 0.94315251 0.72955401 0.9360135\n",
            "  0.83650156 0.51753522 0.81512998 0.70668866 0.95547969 0.07172562\n",
            "  0.85270404 0.63254597 0.92286387 0.67009182 0.45316301 0.80843447\n",
            "  0.13354739 0.14864402 0.91950341 0.4015141  0.4522415  0.69249016\n",
            "  0.46864383 0.28187563 0.07634599 0.43411583 0.35323556 0.12792717\n",
            "  0.50461511 0.49780914 0.93749805 0.98278517 0.45304119 0.3472338\n",
            "  0.14867878 0.72342638 0.57521321 0.41361352 0.34082601 0.99981825\n",
            "  0.57447563 0.08296697 0.79970327 0.7491939  0.41565805 0.58235865\n",
            "  0.42065328 0.97715003 0.47124443 0.16001963 0.62867604 0.46168371\n",
            "  0.28954616 0.13950261 0.58821268 0.59446124 0.03204052 0.8710919\n",
            "  0.54766841 0.23676029 0.17710003 0.70441947]\n",
            " [0.55577933 0.64234383 0.11458847 0.89246465 0.94328169 0.36041814\n",
            "  0.25739174 0.26962865 0.82157038 0.36863731 0.19428303 0.93497598\n",
            "  0.92579083 0.42638388 0.61250107 0.03985209 0.8647035  0.17223043\n",
            "  0.88951042 0.51885042 0.81136748 0.46980642 0.74771994 0.27445305\n",
            "  0.44089478 0.18770932 0.81704046 0.26631605 0.84847582 0.36204889\n",
            "  0.69974741 0.55885326 0.16206354 0.27500844 0.62131068 0.45933607\n",
            "  0.32790095 0.54607108 0.33327562 0.93722126 0.26350372 0.16711136\n",
            "  0.1015941  0.19720344 0.04177155 0.60485039 0.89311763 0.13156061\n",
            "  0.93578376 0.92501123 0.08474153 0.48472939 0.23441681 0.80457245\n",
            "  0.29839608 0.26068178 0.75738493 0.17299633 0.17822223 0.63308817\n",
            "  0.56530445 0.72032034 0.68723423 0.04389811 0.99216275 0.67466465\n",
            "  0.16973427 0.87148551 0.74591611 0.90462776]\n",
            " [0.22577023 0.80849655 0.73286141 0.24794608 0.92845234 0.34349625\n",
            "  0.35365614 0.85139369 0.34568251 0.47974979 0.73536139 0.70304041\n",
            "  0.576899   0.43459518 0.48569341 0.57572411 0.8831138  0.35632208\n",
            "  0.1442006  0.79831193 0.97588245 0.776965   0.26222728 0.4394319\n",
            "  0.29229247 0.95477362 0.25042375 0.55307265 0.51987396 0.22836281\n",
            "  0.39872926 0.5651091  0.65134683 0.68158196 0.99503809 0.77004838\n",
            "  0.87109534 0.33926348 0.92666444 0.85516032 0.47569649 0.80395176\n",
            "  0.48639685 0.19339385 0.43986276 0.78221691 0.0392242  0.50854037\n",
            "  0.44281784 0.48670216 0.63935283 0.42958929 0.13444971 0.04997554\n",
            "  0.95634661 0.39475004 0.2278334  0.78455345 0.51719621 0.46753072\n",
            "  0.72310017 0.9074978  0.42986891 0.09284098 0.24940457 0.20096633\n",
            "  0.91612778 0.22500195 0.35940388 0.83810833]]\n"
          ]
        }
      ]
    },
    {
      "cell_type": "code",
      "source": [
        "class Perceptron:\n",
        "    # ... (same as before)\n",
        "    def __init__(self, input, output, hidden_layers=[100, 80], l_rate=1):\n",
        "        self.input = input\n",
        "        self.output = output\n",
        "        self.input_layer = len(input[0])\n",
        "        self.output_layer = max(output) + 1 # index starts at 0\n",
        "        self.total_layers = hidden_layers + [self.output_layer]\n",
        "        self.l_rate = l_rate\n",
        "        self.network = []\n",
        "\n",
        "\n",
        "    def init_network(self):\n",
        "        self.network = []\n",
        "        neuron_input_size = self.input_layer\n",
        "\n",
        "        for layer in self.total_layers:\n",
        "            layer_weights = {'weights': np.random.rand(layer, neuron_input_size)}\n",
        "            self.network.append(layer_weights)\n",
        "            neuron_input_size = layer\n",
        "\n",
        "    def activate(self, input, neuron_weights):\n",
        "        activation = 1\n",
        "        if len(input) != len(neuron_weights):\n",
        "            raise \"Input and Neuron Weights must have same length!\"\n",
        "        return np.dot(input, neuron_weights)\n",
        "\n",
        "\n",
        "    def transfer(self, activation):\n",
        "        return 1.0 / (1.0 + np.exp(-activation))\n",
        "\n",
        "\n",
        "    # Calculate the derivative of an neuron output\n",
        "    def transfer_derivative(self, output):\n",
        "        return output * (1.0 - output)\n",
        "\n",
        "    def forward_propagate(self, input):\n",
        "        for layer in self.network:\n",
        "            layer['output'] = self.transfer(np.dot(layer['weights'], input))\n",
        "\n",
        "    def backward_propagate_error(self, expected):\n",
        "        for i in reversed(range(len(self.network))):\n",
        "            layer = self.network[i]\n",
        "            errors = []\n",
        "            if i != len(self.network) - 1:\n",
        "                errors = np.dot(np.array([neuron['weights'] for neuron in self.network[i + 1]]).T,\n",
        "                                np.array([neuron['delta'] for neuron in self.network[i + 1]]))\n",
        "            else:\n",
        "                errors = layer['output'] - expected\n",
        "            layer['delta'] = errors * self.transfer_derivative(layer['output'])\n",
        "\n",
        "    def update_weights(self, inputs):\n",
        "        for i in range(len(self.network)):\n",
        "            layer_input = inputs if i == 0 else self.network[i - 1]['output']\n",
        "            self.network[i]['weights'] -= self.l_rate * np.outer(self.network[i]['delta'], layer_input)\n",
        "\n",
        "\n",
        "    def fit(self):\n",
        "        self.init_network()\n",
        "        for i, entry in enumerate(self.input):\n",
        "            self.forward_propagate(entry)\n",
        "            self.backward_propagate_error([1 if self.output[i] == i else 0 for _ in range(self.output_layer)]) # zeros everywhere except where the label\n",
        "            if i % 10 == 0:\n",
        "                self.update_weights(entry)\n",
        "        self.update_weights(self.input[-1])\n",
        "\n",
        "\n",
        "    def predict(self, input):\n",
        "        result = []\n",
        "        for entry in input:\n",
        "            self.forward_propagate(entry)\n",
        "            predictions = [neuron['output'] for neuron in self.network[-1]]\n",
        "            result.append(predictions.index(max(predictions)))\n",
        "        return result"
      ],
      "metadata": {
        "id": "MmQlMeLQI6jb"
      },
      "execution_count": 85,
      "outputs": []
    },
    {
      "cell_type": "code",
      "source": [
        "p = Perceptron(train_df['data'], train_df['labels'], [100, 70])\n",
        "# p.init_network()\n",
        "# p.forward_propagate([1,2,3,4])\n",
        "# p.network\n",
        "# p.backward_propagate_error([0.8, 0.3])\n",
        "# print(p.network)\n",
        "# p.update_weights([1,2,3,4])\n",
        "# print(p.network)\n",
        "start = time.time()\n",
        "p.fit()\n",
        "print(\"training finished in {} seconds\".format(time.time() - start))\n",
        "model_accuracy(p.predict(test_df['data']), test_df['labels'])"
      ],
      "metadata": {
        "colab": {
          "base_uri": "https://localhost:8080/",
          "height": 315
        },
        "id": "-YaCJshAJnVJ",
        "outputId": "ec55ea17-7b8e-45b7-fe9c-dd1ad5975ede"
      },
      "execution_count": 86,
      "outputs": [
        {
          "output_type": "error",
          "ename": "ValueError",
          "evalue": "ignored",
          "traceback": [
            "\u001b[0;31m---------------------------------------------------------------------------\u001b[0m",
            "\u001b[0;31mValueError\u001b[0m                                Traceback (most recent call last)",
            "\u001b[0;32m<ipython-input-86-c0f67bc874f8>\u001b[0m in \u001b[0;36m<cell line: 10>\u001b[0;34m()\u001b[0m\n\u001b[1;32m      8\u001b[0m \u001b[0;31m# print(p.network)\u001b[0m\u001b[0;34m\u001b[0m\u001b[0;34m\u001b[0m\u001b[0m\n\u001b[1;32m      9\u001b[0m \u001b[0mstart\u001b[0m \u001b[0;34m=\u001b[0m \u001b[0mtime\u001b[0m\u001b[0;34m.\u001b[0m\u001b[0mtime\u001b[0m\u001b[0;34m(\u001b[0m\u001b[0;34m)\u001b[0m\u001b[0;34m\u001b[0m\u001b[0;34m\u001b[0m\u001b[0m\n\u001b[0;32m---> 10\u001b[0;31m \u001b[0mp\u001b[0m\u001b[0;34m.\u001b[0m\u001b[0mfit\u001b[0m\u001b[0;34m(\u001b[0m\u001b[0;34m)\u001b[0m\u001b[0;34m\u001b[0m\u001b[0;34m\u001b[0m\u001b[0m\n\u001b[0m\u001b[1;32m     11\u001b[0m \u001b[0mprint\u001b[0m\u001b[0;34m(\u001b[0m\u001b[0;34m\"training finished in {} seconds\"\u001b[0m\u001b[0;34m.\u001b[0m\u001b[0mformat\u001b[0m\u001b[0;34m(\u001b[0m\u001b[0mtime\u001b[0m\u001b[0;34m.\u001b[0m\u001b[0mtime\u001b[0m\u001b[0;34m(\u001b[0m\u001b[0;34m)\u001b[0m \u001b[0;34m-\u001b[0m \u001b[0mstart\u001b[0m\u001b[0;34m)\u001b[0m\u001b[0;34m)\u001b[0m\u001b[0;34m\u001b[0m\u001b[0;34m\u001b[0m\u001b[0m\n\u001b[1;32m     12\u001b[0m \u001b[0mmodel_accuracy\u001b[0m\u001b[0;34m(\u001b[0m\u001b[0mp\u001b[0m\u001b[0;34m.\u001b[0m\u001b[0mpredict\u001b[0m\u001b[0;34m(\u001b[0m\u001b[0mtest_df\u001b[0m\u001b[0;34m[\u001b[0m\u001b[0;34m'data'\u001b[0m\u001b[0;34m]\u001b[0m\u001b[0;34m)\u001b[0m\u001b[0;34m,\u001b[0m \u001b[0mtest_df\u001b[0m\u001b[0;34m[\u001b[0m\u001b[0;34m'labels'\u001b[0m\u001b[0;34m]\u001b[0m\u001b[0;34m)\u001b[0m\u001b[0;34m\u001b[0m\u001b[0;34m\u001b[0m\u001b[0m\n",
            "\u001b[0;32m<ipython-input-85-d0b2815f73ae>\u001b[0m in \u001b[0;36mfit\u001b[0;34m(self)\u001b[0m\n\u001b[1;32m     59\u001b[0m         \u001b[0mself\u001b[0m\u001b[0;34m.\u001b[0m\u001b[0minit_network\u001b[0m\u001b[0;34m(\u001b[0m\u001b[0;34m)\u001b[0m\u001b[0;34m\u001b[0m\u001b[0;34m\u001b[0m\u001b[0m\n\u001b[1;32m     60\u001b[0m         \u001b[0;32mfor\u001b[0m \u001b[0mi\u001b[0m\u001b[0;34m,\u001b[0m \u001b[0mentry\u001b[0m \u001b[0;32min\u001b[0m \u001b[0menumerate\u001b[0m\u001b[0;34m(\u001b[0m\u001b[0mself\u001b[0m\u001b[0;34m.\u001b[0m\u001b[0minput\u001b[0m\u001b[0;34m)\u001b[0m\u001b[0;34m:\u001b[0m\u001b[0;34m\u001b[0m\u001b[0;34m\u001b[0m\u001b[0m\n\u001b[0;32m---> 61\u001b[0;31m             \u001b[0mself\u001b[0m\u001b[0;34m.\u001b[0m\u001b[0mforward_propagate\u001b[0m\u001b[0;34m(\u001b[0m\u001b[0mentry\u001b[0m\u001b[0;34m)\u001b[0m\u001b[0;34m\u001b[0m\u001b[0;34m\u001b[0m\u001b[0m\n\u001b[0m\u001b[1;32m     62\u001b[0m             \u001b[0mself\u001b[0m\u001b[0;34m.\u001b[0m\u001b[0mbackward_propagate_error\u001b[0m\u001b[0;34m(\u001b[0m\u001b[0;34m[\u001b[0m\u001b[0;36m1\u001b[0m \u001b[0;32mif\u001b[0m \u001b[0mself\u001b[0m\u001b[0;34m.\u001b[0m\u001b[0moutput\u001b[0m\u001b[0;34m[\u001b[0m\u001b[0mi\u001b[0m\u001b[0;34m]\u001b[0m \u001b[0;34m==\u001b[0m \u001b[0mi\u001b[0m \u001b[0;32melse\u001b[0m \u001b[0;36m0\u001b[0m \u001b[0;32mfor\u001b[0m \u001b[0m_\u001b[0m \u001b[0;32min\u001b[0m \u001b[0mrange\u001b[0m\u001b[0;34m(\u001b[0m\u001b[0mself\u001b[0m\u001b[0;34m.\u001b[0m\u001b[0moutput_layer\u001b[0m\u001b[0;34m)\u001b[0m\u001b[0;34m]\u001b[0m\u001b[0;34m)\u001b[0m \u001b[0;31m# zeros everywhere except where the label\u001b[0m\u001b[0;34m\u001b[0m\u001b[0;34m\u001b[0m\u001b[0m\n\u001b[1;32m     63\u001b[0m             \u001b[0;32mif\u001b[0m \u001b[0mi\u001b[0m \u001b[0;34m%\u001b[0m \u001b[0;36m10\u001b[0m \u001b[0;34m==\u001b[0m \u001b[0;36m0\u001b[0m\u001b[0;34m:\u001b[0m\u001b[0;34m\u001b[0m\u001b[0;34m\u001b[0m\u001b[0m\n",
            "\u001b[0;32m<ipython-input-85-d0b2815f73ae>\u001b[0m in \u001b[0;36mforward_propagate\u001b[0;34m(self, input)\u001b[0m\n\u001b[1;32m     37\u001b[0m     \u001b[0;32mdef\u001b[0m \u001b[0mforward_propagate\u001b[0m\u001b[0;34m(\u001b[0m\u001b[0mself\u001b[0m\u001b[0;34m,\u001b[0m \u001b[0minput\u001b[0m\u001b[0;34m)\u001b[0m\u001b[0;34m:\u001b[0m\u001b[0;34m\u001b[0m\u001b[0;34m\u001b[0m\u001b[0m\n\u001b[1;32m     38\u001b[0m         \u001b[0;32mfor\u001b[0m \u001b[0mlayer\u001b[0m \u001b[0;32min\u001b[0m \u001b[0mself\u001b[0m\u001b[0;34m.\u001b[0m\u001b[0mnetwork\u001b[0m\u001b[0;34m:\u001b[0m\u001b[0;34m\u001b[0m\u001b[0;34m\u001b[0m\u001b[0m\n\u001b[0;32m---> 39\u001b[0;31m             \u001b[0mlayer\u001b[0m\u001b[0;34m[\u001b[0m\u001b[0;34m'output'\u001b[0m\u001b[0;34m]\u001b[0m \u001b[0;34m=\u001b[0m \u001b[0mself\u001b[0m\u001b[0;34m.\u001b[0m\u001b[0mtransfer\u001b[0m\u001b[0;34m(\u001b[0m\u001b[0mnp\u001b[0m\u001b[0;34m.\u001b[0m\u001b[0mdot\u001b[0m\u001b[0;34m(\u001b[0m\u001b[0mlayer\u001b[0m\u001b[0;34m[\u001b[0m\u001b[0;34m'weights'\u001b[0m\u001b[0;34m]\u001b[0m\u001b[0;34m,\u001b[0m \u001b[0minput\u001b[0m\u001b[0;34m)\u001b[0m\u001b[0;34m)\u001b[0m\u001b[0;34m\u001b[0m\u001b[0;34m\u001b[0m\u001b[0m\n\u001b[0m\u001b[1;32m     40\u001b[0m \u001b[0;34m\u001b[0m\u001b[0m\n\u001b[1;32m     41\u001b[0m     \u001b[0;32mdef\u001b[0m \u001b[0mbackward_propagate_error\u001b[0m\u001b[0;34m(\u001b[0m\u001b[0mself\u001b[0m\u001b[0;34m,\u001b[0m \u001b[0mexpected\u001b[0m\u001b[0;34m)\u001b[0m\u001b[0;34m:\u001b[0m\u001b[0;34m\u001b[0m\u001b[0;34m\u001b[0m\u001b[0m\n",
            "\u001b[0;32m/usr/local/lib/python3.10/dist-packages/numpy/core/overrides.py\u001b[0m in \u001b[0;36mdot\u001b[0;34m(*args, **kwargs)\u001b[0m\n",
            "\u001b[0;31mValueError\u001b[0m: shapes (70,100) and (3072,) not aligned: 100 (dim 1) != 3072 (dim 0)"
          ]
        }
      ]
    }
  ]
}